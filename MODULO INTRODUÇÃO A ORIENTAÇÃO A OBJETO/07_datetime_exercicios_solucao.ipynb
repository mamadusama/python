{
 "cells": [
  {
   "cell_type": "markdown",
   "metadata": {},
   "source": [
    "## Oferecendo desconto para cliente com base na última compra\n",
    "\n",
    "Suponha que você está trabalhando para uma empresa que deseja rastrear a atividade do cliente. Uma métrica que eles estão interessados é o tempo que passou desde a última transação do cliente. Se for muito tempo, eles podem oferecer um desconto para o cliente. Crie um script Python que mostra quanto tempo se passou desde a última compra do cliente (10 de maio de 2023). Se faz mais de 30 dias, mostre uma mensagem oferecendo um desconto para o cliente."
   ]
  },
  {
   "cell_type": "code",
   "execution_count": 1,
   "metadata": {
    "ExecuteTime": {
     "end_time": "2023-06-29T20:13:05.758670100Z",
     "start_time": "2023-06-29T20:13:05.750614500Z"
    },
    "collapsed": false,
    "jupyter": {
     "outputs_hidden": false
    }
   },
   "outputs": [
    {
     "name": "stdout",
     "output_type": "stream",
     "text": [
      "Oferecer desconto para o cliente\n"
     ]
    }
   ],
   "source": [
    "from datetime import datetime\n",
    "\n",
    "ultima_compra = datetime(2023, 5, 10)\n",
    "data_hora_atual = datetime.now()\n",
    "\n",
    "diferenca = data_hora_atual - ultima_compra\n",
    "\n",
    "if diferenca.days > 30:\n",
    "    print(\"Parabéns, você ganhou um desconto!\")"
   ]
  },
  {
   "cell_type": "markdown",
   "metadata": {},
   "source": [
    "## Data e hora em diferentes fusos horários\n",
    "\n",
    "Uma empresa tem escritórios em São Paulo, Nova York e Tóquio. Crie um script Python que mostra a data e hora atuais nesses três fusos horários. Exiba, também, se estes escritórios estão abertos ou fechados (9h às 17h).\n"
   ]
  },
  {
   "cell_type": "code",
   "execution_count": 2,
   "metadata": {
    "ExecuteTime": {
     "end_time": "2023-06-29T20:13:12.901556500Z",
     "start_time": "2023-06-29T20:13:12.891232800Z"
    },
    "collapsed": false,
    "jupyter": {
     "outputs_hidden": false
    }
   },
   "outputs": [
    {
     "name": "stdout",
     "output_type": "stream",
     "text": [
      "Data/hora atual em São Paulo: 2023-06-29 17:13:12.895254-03:00\n",
      "Data/hora atual em Nova York: 2023-06-29 16:13:12.895254-04:00\n",
      "Data/hora atual em Tóquio: 2023-06-30 05:13:12.895254+09:00\n"
     ]
    }
   ],
   "source": [
    "from datetime import datetime\n",
    "from zoneinfo import ZoneInfo\n",
    "\n",
    "data_hora_atual = datetime.now()\n",
    "\n",
    "fuso_horario_sao_paulo = ZoneInfo('America/Sao_Paulo')\n",
    "data_hora_sao_paulo = data_hora_atual.astimezone(fuso_horario_sao_paulo)\n",
    "\n",
    "fuso_horario_ny = ZoneInfo('America/New_York')\n",
    "data_hora_ny = data_hora_atual.astimezone(fuso_horario_ny)\n",
    "\n",
    "fuso_horario_tokyo = ZoneInfo('Asia/Tokyo')\n",
    "data_hora_tokyo = data_hora_atual.astimezone(fuso_horario_tokyo)\n",
    "\n",
    "print(f\"Data/hora atual em São Paulo: {data_hora_sao_paulo}\")\n",
    "print(f\"Data/hora atual em Nova York: {data_hora_ny}\")\n",
    "print(f\"Data/hora atual em Tóquio: {data_hora_tokyo}\")\n"
   ]
  },
  {
   "cell_type": "code",
   "execution_count": 5,
   "metadata": {
    "ExecuteTime": {
     "end_time": "2023-06-29T20:24:02.788481200Z",
     "start_time": "2023-06-29T20:24:02.783389200Z"
    },
    "collapsed": false,
    "jupyter": {
     "outputs_hidden": false
    }
   },
   "outputs": [
    {
     "name": "stdout",
     "output_type": "stream",
     "text": [
      "O escritório de São Paulo está fechado.\n",
      "O escritório de Nova York está aberto.\n",
      "O escritório de Tóquio está fechado.\n"
     ]
    }
   ],
   "source": [
    "# Verificando se os escritórios estão abertos ou fechados\n",
    "\n",
    "\n",
    "def verifica_horario(data_hora):\n",
    "    if 9 <= data_hora.hour < 17:\n",
    "        return \"aberto\"\n",
    "    else:\n",
    "        return \"fechado\"\n",
    "\n",
    "\n",
    "print(f\"O escritório de São Paulo está {verifica_horario(data_hora_sao_paulo)}.\")\n",
    "print(f\"O escritório de Nova York está {verifica_horario(data_hora_ny)}.\")\n",
    "print(f\"O escritório de Tóquio está {verifica_horario(data_hora_tokyo)}.\")\n"
   ]
  }
 ],
 "metadata": {
  "kernelspec": {
   "display_name": "Python 3 (ipykernel)",
   "language": "python",
   "name": "python3"
  },
  "language_info": {
   "codemirror_mode": {
    "name": "ipython",
    "version": 3
   },
   "file_extension": ".py",
   "mimetype": "text/x-python",
   "name": "python",
   "nbconvert_exporter": "python",
   "pygments_lexer": "ipython3",
   "version": "3.10.11"
  }
 },
 "nbformat": 4,
 "nbformat_minor": 4
}
