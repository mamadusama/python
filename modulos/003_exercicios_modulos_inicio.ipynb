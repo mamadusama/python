{
 "cells": [
  {
   "cell_type": "markdown",
   "metadata": {},
   "source": [
    "# Exercício 1\n",
    "\n",
    "Dado um parágrafo `paragrafo`, conte quantas vezes cada palavra única aparece. Ignore a diferença entre maiúsculas e minúsculas. Encapsule o código em uma função chamada `conta_palavras` que retorna um `Counter` onde as chaves são as palavras únicas e os valores são a quantidade de vezes que a palavra aparece.\n",
    "\n",
    "Dica: pesquise o módulo `collections` e a classe `Counter` presente neste módulo."
   ]
  },
  {
   "cell_type": "code",
   "execution_count": 95,
   "metadata": {},
   "outputs": [],
   "source": [
    "paragrafo = \"Um cientista de dados precisa ter uma boa base técnica. Dados são importantes.\""
   ]
  },
  {
   "cell_type": "code",
   "execution_count": 96,
   "metadata": {},
   "outputs": [
    {
     "name": "stdout",
     "output_type": "stream",
     "text": [
      "A palavra 'um' aparece 1 vez(es).\n",
      "A palavra 'cientista' aparece 1 vez(es).\n",
      "A palavra 'de' aparece 1 vez(es).\n",
      "A palavra 'dados' aparece 2 vez(es).\n",
      "A palavra 'precisa' aparece 1 vez(es).\n",
      "A palavra 'ter' aparece 1 vez(es).\n",
      "A palavra 'uma' aparece 1 vez(es).\n",
      "A palavra 'boa' aparece 1 vez(es).\n",
      "A palavra 'base' aparece 1 vez(es).\n",
      "A palavra 'técnica' aparece 1 vez(es).\n",
      "A palavra 'são' aparece 1 vez(es).\n",
      "A palavra 'importantes' aparece 1 vez(es).\n"
     ]
    }
   ],
   "source": [
    "from collections import Counter\n",
    "#from unidecode import unidecode\n",
    "\n",
    "import re\n",
    "paragrafo = paragrafo.lower()\n",
    "paragrafo = re.sub(r'[^\\w\\s]', '', paragrafo) # remover tudo que nao é palavra\n",
    "#unidecode(paragrafo)\n",
    "palavras = paragrafo.split() # separa as palavras atravez dos espaços existentente entre eles , considera cada um como uma paalavra\n",
    "\n",
    "def conta_palavras():\n",
    "    counter = Counter(palavras)\n",
    "    return counter\n",
    "\n",
    "#conta_palavras()    \n",
    "\n",
    "for palavra, frequencia in conta_palavras().items():\n",
    "    print(f\"A palavra '{palavra}' aparece {frequencia} vez(es).\")\n"
   ]
  },
  {
   "cell_type": "markdown",
   "metadata": {},
   "source": [
    "# Exercício 2"
   ]
  },
  {
   "cell_type": "markdown",
   "metadata": {},
   "source": [
    " Gere uma lista de 30 números aleatórios, entre 100 e 2500, representando vendas diárias e calcule a média e a mediana de vendas. Use o módulo `random` e o módulo `statistics`."
   ]
  },
  {
   "cell_type": "code",
   "execution_count": 79,
   "metadata": {},
   "outputs": [
    {
     "name": "stdout",
     "output_type": "stream",
     "text": [
      "[1032, 2445, 613, 2176, 1753, 1419, 1253, 1272, 316, 630, 1140, 1632, 680, 1810, 2219, 1288, 1347, 194, 120, 1970, 1121, 321, 2458, 1333, 884, 666, 2293, 2190, 325, 1580]\n"
     ]
    }
   ],
   "source": [
    "import random\n",
    "import statistics \n",
    "\n",
    "\n",
    "vendas_dearia = [random.randint(100, 2500) for _ in range(30)]\n",
    "# O _ é uma convenção para indicar que o valor não será usado no loop.\n",
    "\n",
    "print(vendas_dearia)"
   ]
  },
  {
   "cell_type": "code",
   "execution_count": 80,
   "metadata": {},
   "outputs": [
    {
     "name": "stdout",
     "output_type": "stream",
     "text": [
      "A média de vendas é : 1283\n",
      "A médiana de vendas é : 1280\n"
     ]
    }
   ],
   "source": [
    "media = sorted(vendas_dearia)\n",
    "meida = statistics.mean(vendas_dearia)\n",
    "mediana = statistics.median(vendas_dearia)\n",
    "print(f\"A média de vendas é : {meida:.0f}\")\n",
    "print(f\"A médiana de vendas é : {mediana:.0f}\")"
   ]
  },
  {
   "cell_type": "markdown",
   "metadata": {},
   "source": [
    "## Exercício 3"
   ]
  },
  {
   "cell_type": "markdown",
   "metadata": {},
   "source": [
    "Escreva uma função gerar_email_corporativo que recebe um nome completo e retorna um email no formato \"nome.ultimonome@empresa.com\". Considere na solução nomes com acentos e espaços."
   ]
  },
  {
   "cell_type": "markdown",
   "metadata": {},
   "source": [
    "Dica: veja o módulo `unidecode` para remover acentos. https://github.com/avian2/unidecode"
   ]
  },
  {
   "cell_type": "code",
   "execution_count": 99,
   "metadata": {},
   "outputs": [
    {
     "data": {
      "text/plain": [
       "'mamadu.sama@empresa.com'"
      ]
     },
     "execution_count": 99,
     "metadata": {},
     "output_type": "execute_result"
    }
   ],
   "source": [
    "from unidecode import unidecode\n",
    "\n",
    "def gerar_email_corporativo(nome):\n",
    "   \n",
    "    email =  nome.split()\n",
    "    email = \".\".join(email)\n",
    "    email = email + \"@empresa.com\"\n",
    "    email = unidecode(email)\n",
    "    \n",
    "    return email\n",
    "gerar_email_corporativo(\"mamadú sama\")    "
   ]
  },
  {
   "cell_type": "code",
   "execution_count": 98,
   "metadata": {},
   "outputs": [
    {
     "name": "stdout",
     "output_type": "stream",
     "text": [
      "Maamadu sama\n"
     ]
    }
   ],
   "source": [
    "(\"mamadu sama\")\n",
    "# \n",
    "\n",
    "nome = \"Maamadú samá\"\n",
    "#unidecode(nome)\n",
    "print(unidecode(nome))"
   ]
  }
 ],
 "metadata": {
  "kernelspec": {
   "display_name": "Python 3 (ipykernel)",
   "language": "python",
   "name": "python3"
  },
  "language_info": {
   "codemirror_mode": {
    "name": "ipython",
    "version": 3
   },
   "file_extension": ".py",
   "mimetype": "text/x-python",
   "name": "python",
   "nbconvert_exporter": "python",
   "pygments_lexer": "ipython3",
   "version": "3.12.7"
  }
 },
 "nbformat": 4,
 "nbformat_minor": 4
}
