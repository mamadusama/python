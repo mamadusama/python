{
 "cells": [
  {
   "cell_type": "code",
   "execution_count": 1,
   "id": "f54885f8-a1f5-4d8c-afdc-8e22f0ae6d81",
   "metadata": {},
   "outputs": [],
   "source": [
    "import statistics"
   ]
  },
  {
   "cell_type": "code",
   "execution_count": 2,
   "id": "a82c7be5-1519-4df5-baa6-bd051c566cac",
   "metadata": {},
   "outputs": [],
   "source": [
    "lista1 = [40, 60,80]"
   ]
  },
  {
   "cell_type": "code",
   "execution_count": 3,
   "id": "be1514af-f4a0-43b3-9fbd-65bd3ee1b834",
   "metadata": {},
   "outputs": [],
   "source": [
    "estatistica1 = statistics.harmonic_mean(lista1)"
   ]
  },
  {
   "cell_type": "code",
   "execution_count": 5,
   "id": "df5fdde3-bda8-4889-90fd-632298c495f2",
   "metadata": {},
   "outputs": [
    {
     "name": "stdout",
     "output_type": "stream",
     "text": [
      "55.38461538461538\n"
     ]
    }
   ],
   "source": [
    "print(estatistica1)"
   ]
  },
  {
   "cell_type": "code",
   "execution_count": 7,
   "id": "139c62ab-c7ce-48ec-9760-fb00aa01dee7",
   "metadata": {},
   "outputs": [
    {
     "name": "stdout",
     "output_type": "stream",
     "text": [
      "55.38461538461538\n",
      "27.97513321492007\n"
     ]
    }
   ],
   "source": [
    "\n",
    "# Calculate harmonic mean\n",
    "print(statistics.harmonic_mean([40, 60, 80]))\n",
    "print(statistics.harmonic_mean([10, 30, 50, 70, 90]))"
   ]
  },
  {
   "cell_type": "code",
   "execution_count": 9,
   "id": "3fc0ddd1-0b54-4fdc-9ce4-cfeecbb2ee3c",
   "metadata": {},
   "outputs": [
    {
     "data": {
      "text/plain": [
       "0.025"
      ]
     },
     "execution_count": 9,
     "metadata": {},
     "output_type": "execute_result"
    }
   ],
   "source": [
    "1/40"
   ]
  },
  {
   "cell_type": "code",
   "execution_count": 11,
   "id": "63b94f7c-7e68-46f6-8c14-f6bf6126ef95",
   "metadata": {},
   "outputs": [
    {
     "data": {
      "text/plain": [
       "0.0125"
      ]
     },
     "execution_count": 11,
     "metadata": {},
     "output_type": "execute_result"
    }
   ],
   "source": [
    "\n",
    "1/80"
   ]
  },
  {
   "cell_type": "code",
   "execution_count": 12,
   "id": "17551707-2c17-4b4b-bde5-f619ef02881a",
   "metadata": {},
   "outputs": [
    {
     "data": {
      "text/plain": [
       "0.016666666666666666"
      ]
     },
     "execution_count": 12,
     "metadata": {},
     "output_type": "execute_result"
    }
   ],
   "source": [
    "1/60"
   ]
  },
  {
   "cell_type": "code",
   "execution_count": 18,
   "id": "9c85ebe9-3396-4635-b1ea-916857df88a4",
   "metadata": {},
   "outputs": [
    {
     "name": "stdout",
     "output_type": "stream",
     "text": [
      "0.05416666666666667\n"
     ]
    }
   ],
   "source": [
    "resultado = 0.025+0.0125+0.016666666666666666\n",
    "print(resultado)"
   ]
  },
  {
   "cell_type": "code",
   "execution_count": 17,
   "id": "09b9c6f3-b2fb-465b-9bc6-a6a7c36ac3f6",
   "metadata": {},
   "outputs": [
    {
     "name": "stdout",
     "output_type": "stream",
     "text": [
      "0.05\n"
     ]
    }
   ],
   "source": [
    "print(f\"{resultado:.2f}\")"
   ]
  },
  {
   "cell_type": "code",
   "execution_count": null,
   "id": "2ef75b7e-d81b-471f-bcd2-24101eee88ce",
   "metadata": {},
   "outputs": [],
   "source": [
    "3/0.05"
   ]
  }
 ],
 "metadata": {
  "kernelspec": {
   "display_name": "Python 3 (ipykernel)",
   "language": "python",
   "name": "python3"
  },
  "language_info": {
   "codemirror_mode": {
    "name": "ipython",
    "version": 3
   },
   "file_extension": ".py",
   "mimetype": "text/x-python",
   "name": "python",
   "nbconvert_exporter": "python",
   "pygments_lexer": "ipython3",
   "version": "3.12.7"
  }
 },
 "nbformat": 4,
 "nbformat_minor": 5
}
