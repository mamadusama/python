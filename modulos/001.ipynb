{
 "cells": [
  {
   "cell_type": "markdown",
   "metadata": {},
   "source": [
    "# Módulos"
   ]
  },
  {
   "cell_type": "markdown",
   "metadata": {},
   "source": [
    "Um módulo em Python é simplesmente um arquivo contendo código Python. Pode incluir funções, classes e variáveis, bem como código executável. O conceito de módulo é importante porque permite a você organizar seu código de forma lógica e reutilizável.\n",
    "\n",
    "## Por que Usar Módulos\n",
    "\n",
    "1. **Organização**: Módulos ajudam a organizar seu código em diferentes arquivos, tornando-o mais gerenciável e mais fácil de entender.\n",
    "2. **Reutilização**: Código escrito em um módulo pode ser facilmente reutilizado em diferentes partes do seu programa, ou até mesmo em outros programas, sem a necessidade de duplicação.\n",
    "3. **Espaço de Nomes**: Os módulos proporcionam uma forma de evitar conflitos de nomes em seu código. Funções ou variáveis com o mesmo nome podem existir em módulos diferentes sem causar confusão.\n",
    "\n",
    "## Criando um Módulo\n",
    "\n",
    "Criar um módulo é tão simples quanto escrever um arquivo Python. Por exemplo, você pode criar um arquivo chamado `meu_modulo.py` com algumas funções:\n",
    "\n",
    "```python\n",
    "# meu_modulo.py\n",
    "\n",
    "def cumprimentar(nome):\n",
    "    return f\"Olá, {nome}!\"\n",
    "\n",
    "def somar(a, b):\n",
    "    return a + b\n",
    "```\n",
    "\n",
    "## Usando um Módulo\n",
    "\n",
    "Para usar o módulo, você o importa em outro arquivo Python ou em um Jupyter Notebook usando a instrução `import`. Uma vez importado, você pode acessar as funções e variáveis definidas no módulo.\n",
    "\n",
    "```python\n",
    "# outro_arquivo.py\n",
    "\n",
    "import meu_modulo\n",
    "\n",
    "print(meu_modulo.cumprimentar(\"Ana\"))\n",
    "print(meu_modulo.somar(3, 4))\n",
    "```\n",
    "\n",
    "## Importando de Forma Seletiva\n",
    "\n",
    "Você também pode escolher importar apenas partes específicas de um módulo, o que pode ser útil para economizar memória ou tornar o código mais claro:\n",
    "\n",
    "```python\n",
    "from meu_modulo import cumprimentar\n",
    "\n",
    "print(cumprimentar(\"Carlos\"))\n",
    "```\n",
    "\n",
    "## Módulos da Biblioteca Padrão\n",
    "\n",
    "Python vem com uma vasta biblioteca padrão de módulos que realizam uma variedade de tarefas, desde manipulação de arquivos e expressões regulares até acesso à rede e desenvolvimento web.\n",
    "\n",
    "## Módulos de Terceiros\n",
    "\n",
    "Além dos módulos da biblioteca padrão, você também pode instalar módulos de terceiros usando o gerenciador de pacotes `pip`. Por exemplo, para instalar o módulo `pandas`, você pode usar o seguinte comando:\n",
    "\n",
    "```bash\n",
    "pip install pandas\n",
    "```\n",
    "\n"
   ]
  },
  {
   "cell_type": "code",
   "execution_count": null,
   "metadata": {},
   "outputs": [],
   "source": []
  }
 ],
 "metadata": {
  "kernelspec": {
   "display_name": "Python 3 (ipykernel)",
   "language": "python",
   "name": "python3"
  },
  "language_info": {
   "codemirror_mode": {
    "name": "ipython",
    "version": 3
   },
   "file_extension": ".py",
   "mimetype": "text/x-python",
   "name": "python",
   "nbconvert_exporter": "python",
   "pygments_lexer": "ipython3",
   "version": "3.10.13"
  }
 },
 "nbformat": 4,
 "nbformat_minor": 4
}
