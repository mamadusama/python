{
 "cells": [
  {
   "cell_type": "markdown",
   "metadata": {},
   "source": [
    "# Exercício 1"
   ]
  },
  {
   "cell_type": "markdown",
   "metadata": {},
   "source": [
    "Crie uma classe `Cliente` para um e-commerce que armazene o nome do cliente, seu email e compras realizadas (uma lista de valores, inicializada vazia - não é parâmetro do método de inicialização). A classe deve ter métodos para adicionar uma nova compra e calcular o total gasto."
   ]
  },
  {
   "cell_type": "code",
   "execution_count": 79,
   "metadata": {},
   "outputs": [],
   "source": [
    "class Cliente:\n",
    "  \n",
    "    def __init__(self, nome, email ):\n",
    "        self.nome = nome\n",
    "        self.email = email\n",
    "        self.compras = []\n",
    "        \n",
    "\n",
    "    def adicionar_compra(self, valor):\n",
    "        #self.valor = valor\n",
    "        self.compras.append(valor)\n",
    "        \n",
    "    def calcular_total_gasto(self):\n",
    "        return sum(self.compras)\n",
    "        "
   ]
  },
  {
   "cell_type": "code",
   "execution_count": 81,
   "metadata": {},
   "outputs": [
    {
     "data": {
      "text/plain": [
       "<__main__.Cliente at 0x193d2298b90>"
      ]
     },
     "execution_count": 81,
     "metadata": {},
     "output_type": "execute_result"
    }
   ],
   "source": [
    "mamadu = Cliente(\"Mamadu Sama\", \"teste@teste.com\")\n",
    "mamadu\n",
    "samba = Cliente(\"Samba\", \"samba.com\")\n",
    "samba"
   ]
  },
  {
   "cell_type": "code",
   "execution_count": 82,
   "metadata": {},
   "outputs": [
    {
     "data": {
      "text/plain": [
       "'Mamadu Sama'"
      ]
     },
     "execution_count": 82,
     "metadata": {},
     "output_type": "execute_result"
    }
   ],
   "source": [
    "mamadu.nome"
   ]
  },
  {
   "cell_type": "code",
   "execution_count": 83,
   "metadata": {},
   "outputs": [
    {
     "data": {
      "text/plain": [
       "'teste@teste.com'"
      ]
     },
     "execution_count": 83,
     "metadata": {},
     "output_type": "execute_result"
    }
   ],
   "source": [
    "mamadu.email"
   ]
  },
  {
   "cell_type": "code",
   "execution_count": 84,
   "metadata": {},
   "outputs": [],
   "source": [
    "mamadu.adicionar_compra(25)\n",
    "mamadu.adicionar_compra(25)\n"
   ]
  },
  {
   "cell_type": "code",
   "execution_count": 85,
   "metadata": {},
   "outputs": [],
   "source": [
    "mamadu.adicionar_compra(7)\n"
   ]
  },
  {
   "cell_type": "code",
   "execution_count": 86,
   "metadata": {},
   "outputs": [],
   "source": [
    "mamadu.adicionar_compra(212)\n",
    "\n"
   ]
  },
  {
   "cell_type": "code",
   "execution_count": 87,
   "metadata": {},
   "outputs": [
    {
     "data": {
      "text/plain": [
       "[25, 25, 7, 212]"
      ]
     },
     "execution_count": 87,
     "metadata": {},
     "output_type": "execute_result"
    }
   ],
   "source": [
    "mamadu.compras\n",
    "\n"
   ]
  },
  {
   "cell_type": "code",
   "execution_count": 88,
   "metadata": {},
   "outputs": [
    {
     "data": {
      "text/plain": [
       "269"
      ]
     },
     "execution_count": 88,
     "metadata": {},
     "output_type": "execute_result"
    }
   ],
   "source": [
    "mamadu.calcular_total_gasto()"
   ]
  },
  {
   "cell_type": "markdown",
   "metadata": {},
   "source": [
    "# Exercício 2"
   ]
  },
  {
   "cell_type": "markdown",
   "metadata": {},
   "source": [
    "Crie uma classe `AnaliseVendas` que armazene os dados de vendas mensais (uma lista de números, inicializada vazia - não é parâmetro do método de inicialização). A classe deve ter métodos para adicionar vendas, calcular a média de vendas e encontrar o mês com a maior venda."
   ]
  },
  {
   "cell_type": "code",
   "execution_count": 264,
   "metadata": {},
   "outputs": [],
   "source": [
    "class AnaliseVendas:\n",
    "    def __init__(self):\n",
    "        self.dados_vendas_mensais = []\n",
    "    \n",
    "    def adicionar_venda(self, venda):\n",
    "        self.dados_vendas_mensais.append(venda)\n",
    "\n",
    "    def calcula_media(self):\n",
    "        \n",
    "        return sum(self.dados_vendas_mensais) / len(self.dados_vendas_mensais)\n",
    "    \n",
    "    def mes_maior_venda(self):\n",
    "        maior_venda = max(self.dados_vendas_mensais)\n",
    "        indice_maior_venda = self.dados_vendas_mensais.index(maior_venda)\n",
    "        meses = [\"Janeiro\", \"Fevereiro\", \"Março\", \"Abril\", \"Maio\", \"Junho\", \"Julho\", \"Agosto\", \"Setembro\", \"Outubro\", \"Novembro\", \"Dezembro\"]\n",
    "        nome_meses = meses[indice_maior_venda]\n",
    "        print(f\"O mês com maior venda é indice: {nome_meses} vendeu {maior_venda}\")\n",
    "    "
   ]
  },
  {
   "cell_type": "code",
   "execution_count": 265,
   "metadata": {},
   "outputs": [
    {
     "data": {
      "text/plain": [
       "<__main__.AnaliseVendas at 0x193d3360200>"
      ]
     },
     "execution_count": 265,
     "metadata": {},
     "output_type": "execute_result"
    }
   ],
   "source": [
    "venda1 = AnaliseVendas()\n",
    "venda1"
   ]
  },
  {
   "cell_type": "code",
   "execution_count": 266,
   "metadata": {},
   "outputs": [],
   "source": [
    "venda1.adicionar_venda(1254)"
   ]
  },
  {
   "cell_type": "code",
   "execution_count": 267,
   "metadata": {},
   "outputs": [],
   "source": [
    "venda1.adicionar_venda(1025)"
   ]
  },
  {
   "cell_type": "code",
   "execution_count": 268,
   "metadata": {},
   "outputs": [],
   "source": [
    "venda1.adicionar_venda(55)"
   ]
  },
  {
   "cell_type": "code",
   "execution_count": 269,
   "metadata": {},
   "outputs": [],
   "source": [
    "venda1.adicionar_venda(159)"
   ]
  },
  {
   "cell_type": "code",
   "execution_count": 270,
   "metadata": {},
   "outputs": [],
   "source": [
    "venda1.adicionar_venda(10)"
   ]
  },
  {
   "cell_type": "code",
   "execution_count": 271,
   "metadata": {},
   "outputs": [
    {
     "data": {
      "text/plain": [
       "[1254, 1025, 55, 159, 10]"
      ]
     },
     "execution_count": 271,
     "metadata": {},
     "output_type": "execute_result"
    }
   ],
   "source": [
    "venda1.dados_vendas_mensais"
   ]
  },
  {
   "cell_type": "code",
   "execution_count": 272,
   "metadata": {},
   "outputs": [
    {
     "data": {
      "text/plain": [
       "500.6"
      ]
     },
     "execution_count": 272,
     "metadata": {},
     "output_type": "execute_result"
    }
   ],
   "source": [
    "venda1.calcula_media()"
   ]
  },
  {
   "cell_type": "code",
   "execution_count": 273,
   "metadata": {},
   "outputs": [
    {
     "name": "stdout",
     "output_type": "stream",
     "text": [
      "O mês com maior venda é indice: Janeiro vendeu 1254\n"
     ]
    }
   ],
   "source": [
    "venda1.mes_maior_venda()"
   ]
  },
  {
   "cell_type": "code",
   "execution_count": null,
   "metadata": {},
   "outputs": [],
   "source": []
  },
  {
   "cell_type": "code",
   "execution_count": null,
   "metadata": {},
   "outputs": [],
   "source": []
  }
 ],
 "metadata": {
  "kernelspec": {
   "display_name": "Python 3 (ipykernel)",
   "language": "python",
   "name": "python3"
  },
  "language_info": {
   "codemirror_mode": {
    "name": "ipython",
    "version": 3
   },
   "file_extension": ".py",
   "mimetype": "text/x-python",
   "name": "python",
   "nbconvert_exporter": "python",
   "pygments_lexer": "ipython3",
   "version": "3.12.7"
  }
 },
 "nbformat": 4,
 "nbformat_minor": 4
}
