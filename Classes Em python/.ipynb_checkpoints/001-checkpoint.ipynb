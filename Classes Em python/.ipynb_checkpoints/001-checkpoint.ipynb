{
 "cells": [
  {
   "cell_type": "markdown",
   "metadata": {},
   "source": [
    "# Classes"
   ]
  },
  {
   "cell_type": "markdown",
   "metadata": {},
   "source": [
    "Vamos considerar um exemplo de classe dentro de um contexto de vendas. Imagine que você esteja gerenciando um sistema de vendas para uma loja e precise de uma maneira eficiente de lidar com as informações de cada venda. Uma classe chamada `Venda` pode ser criada para representar cada transação individual.\n",
    "\n",
    "Neste exemplo:\n",
    "\n",
    "- A classe `Venda` tem quatro atributos: `id_venda`, `produto`, `quantidade` e `preco_unitario`.\n",
    "- O método `__init__` é o construtor que inicializa um novo objeto `Venda` com os atributos fornecidos.\n",
    "- `calcular_total` é um método que calcula o valor total da venda.\n",
    "- `exibir_resumo` é um método que imprime um resumo da venda.\n",
    "\n"
   ]
  },
  {
   "cell_type": "markdown",
   "metadata": {},
   "source": [
    "## Criar a classe"
   ]
  },
  {
   "cell_type": "code",
   "execution_count": 52,
   "metadata": {},
   "outputs": [],
   "source": [
    "class Venda:\n",
    "    def __init__(self, id_venda, produto, quantidade, preco_unitario):\n",
    "        self.id_venda = id_venda\n",
    "        self.produto = produto\n",
    "        self.quantidade = quantidade\n",
    "        self.preco_unitario = preco_unitario\n",
    "\n",
    "    def calcular_total(self): \n",
    "        valor_total = self.quantidade * self.preco_unitario\n",
    "        self.valor_total = valor_total\n",
    "        return valor_total\n",
    "        \n",
    "    def exibir_resumo(self):\n",
    "        print(f\"O resumo da venda do produto cujo ID é: {self.id_venda}\\nProduto {self.produto}, Quantidade vendida : {self.quantidade}\\nO preço Unitário : {self.preco_unitario}\\nTotal Venda : {self.valor_total}\")"
   ]
  },
  {
   "cell_type": "code",
   "execution_count": 53,
   "metadata": {},
   "outputs": [
    {
     "data": {
      "text/plain": [
       "<__main__.Venda at 0x196e75227b0>"
      ]
     },
     "execution_count": 53,
     "metadata": {},
     "output_type": "execute_result"
    }
   ],
   "source": [
    "id = 1\n",
    "nome_produto = \"Bolacha\"\n",
    "qtd = 45\n",
    "preco_uni = 12\n",
    "\n",
    "venda_bolacha = Venda(id, nome_produto, qtd, preco_uni)\n",
    "venda_bolacha \n",
    "\n",
    "camisa = Venda(2, \"Camisola\", 2, 1000)\n",
    "camisa"
   ]
  },
  {
   "cell_type": "code",
   "execution_count": 39,
   "metadata": {},
   "outputs": [
    {
     "data": {
      "text/plain": [
       "2"
      ]
     },
     "execution_count": 39,
     "metadata": {},
     "output_type": "execute_result"
    }
   ],
   "source": [
    "camisa.id_venda"
   ]
  },
  {
   "cell_type": "code",
   "execution_count": 54,
   "metadata": {},
   "outputs": [
    {
     "data": {
      "text/plain": [
       "1"
      ]
     },
     "execution_count": 54,
     "metadata": {},
     "output_type": "execute_result"
    }
   ],
   "source": [
    "venda_bolacha.id_venda"
   ]
  },
  {
   "cell_type": "code",
   "execution_count": 55,
   "metadata": {},
   "outputs": [
    {
     "data": {
      "text/plain": [
       "'Bolacha'"
      ]
     },
     "execution_count": 55,
     "metadata": {},
     "output_type": "execute_result"
    }
   ],
   "source": [
    "venda_bolacha.produto"
   ]
  },
  {
   "cell_type": "code",
   "execution_count": 56,
   "metadata": {},
   "outputs": [
    {
     "data": {
      "text/plain": [
       "45"
      ]
     },
     "execution_count": 56,
     "metadata": {},
     "output_type": "execute_result"
    }
   ],
   "source": [
    "venda_bolacha.quantidade"
   ]
  },
  {
   "cell_type": "code",
   "execution_count": 57,
   "metadata": {},
   "outputs": [
    {
     "data": {
      "text/plain": [
       "45"
      ]
     },
     "execution_count": 57,
     "metadata": {},
     "output_type": "execute_result"
    }
   ],
   "source": [
    "venda_bolacha.quantidade"
   ]
  },
  {
   "cell_type": "code",
   "execution_count": 58,
   "metadata": {},
   "outputs": [
    {
     "data": {
      "text/plain": [
       "540"
      ]
     },
     "execution_count": 58,
     "metadata": {},
     "output_type": "execute_result"
    }
   ],
   "source": [
    "venda_bolacha.calcular_total()"
   ]
  },
  {
   "cell_type": "code",
   "execution_count": 59,
   "metadata": {},
   "outputs": [
    {
     "name": "stdout",
     "output_type": "stream",
     "text": [
      "O resumo da venda do produto cujo ID é: 1\n",
      "Produto Bolacha, Quantidade vendida : 45\n",
      "O preço Unitário : 12\n",
      "Total Venda : 540\n"
     ]
    }
   ],
   "source": [
    "venda_bolacha.exibir_resumo()"
   ]
  },
  {
   "cell_type": "code",
   "execution_count": 51,
   "metadata": {},
   "outputs": [
    {
     "name": "stdout",
     "output_type": "stream",
     "text": [
      "O resumo da venda do produto cujo ID é: 2\n",
      "Produto Camisola, Quantidade vendida : 2\n",
      "O preço Unitário : 1000\n",
      "Total Venda : 2000\n"
     ]
    }
   ],
   "source": [
    "camisa.exibir_resumo()"
   ]
  }
 ],
 "metadata": {
  "kernelspec": {
   "display_name": "Python 3 (ipykernel)",
   "language": "python",
   "name": "python3"
  },
  "language_info": {
   "codemirror_mode": {
    "name": "ipython",
    "version": 3
   },
   "file_extension": ".py",
   "mimetype": "text/x-python",
   "name": "python",
   "nbconvert_exporter": "python",
   "pygments_lexer": "ipython3",
   "version": "3.12.7"
  }
 },
 "nbformat": 4,
 "nbformat_minor": 4
}
